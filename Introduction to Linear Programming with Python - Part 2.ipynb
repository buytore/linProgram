{
 "cells": [
  {
   "cell_type": "markdown",
   "metadata": {},
   "source": [
    "# Introduction to Linear Programming with Python - Part 2\n",
    "## Introduction to PuLP"
   ]
  },
  {
   "cell_type": "markdown",
   "metadata": {},
   "source": [
    "[PuLP](http://pythonhosted.org/PuLP/) is an open source linear programming package for python. PuLP can be installed using pip, instructions [here](http://pythonhosted.org/PuLP/main/installing_pulp_at_home.html).\n",
    "\n",
    "In this notebook, we'll explore how to construct and solve the linear programming problem described in Part 1 using PuLP.\n",
    "\n",
    "A brief reminder of our linear programming problem:\n",
    "\n",
    "We want to find the maximum solution to the objective function:\n",
    "\n",
    "Z = 4x + 3y\n",
    "\n",
    "Subject to the following constraints:\n",
    "\n",
    "  x ≥ 0  \n",
    "  y ≥ 2  \n",
    "  2y ≤ 25 - x  \n",
    "  4y ≥ 2x - 8  \n",
    "  y ≤ 2x - 5  "
   ]
  },
  {
   "cell_type": "markdown",
   "metadata": {},
   "source": [
    "We'll begin by importing PuLP"
   ]
  },
  {
   "cell_type": "code",
   "execution_count": 1,
   "metadata": {
    "collapsed": true
   },
   "outputs": [],
   "source": [
    "import pulp"
   ]
  },
  {
   "cell_type": "markdown",
   "metadata": {},
   "source": [
    "Then instantiate a problem class, we'll name it \"My LP problem\" and we're looking for an optimal maximum so we use LpMaximize"
   ]
  },
  {
   "cell_type": "code",
   "execution_count": 2,
   "metadata": {
    "collapsed": false
   },
   "outputs": [],
   "source": [
    "my_lp_problem = pulp.LpProblem(\"My LP Problem\", pulp.LpMaximize)"
   ]
  },
  {
   "cell_type": "markdown",
   "metadata": {},
   "source": [
    "We then model our decision variables using the LpVariable class. In our example, x had a lower bound of 0 and y had a lower bound of 2.\n",
    "\n",
    "Upper bounds can be assigned using the upBound parameter."
   ]
  },
  {
   "cell_type": "code",
   "execution_count": 3,
   "metadata": {
    "collapsed": false
   },
   "outputs": [],
   "source": [
    "x = pulp.LpVariable('x', lowBound=0, cat='Continuous')\n",
    "y = pulp.LpVariable('y', lowBound=2, cat='Continuous')"
   ]
  },
  {
   "cell_type": "markdown",
   "metadata": {},
   "source": [
    "The objective function and constraints are added using the += operator to our model. \n",
    "\n",
    "The objective function is added first, then the individual constraints."
   ]
  },
  {
   "cell_type": "code",
   "execution_count": 4,
   "metadata": {
    "collapsed": true
   },
   "outputs": [],
   "source": [
    "# Objective function\n",
    "my_lp_problem += 4 * x + 3 * y, \"Z\"\n",
    "\n",
    "# Constraints\n",
    "my_lp_problem += 2 * y <= 25 - x\n",
    "my_lp_problem += 4 * y >= 2 * x - 8\n",
    "my_lp_problem += y <= 2 * x - 5"
   ]
  },
  {
   "cell_type": "markdown",
   "metadata": {},
   "source": [
    "We have now constructed our problem and can have a look at it."
   ]
  },
  {
   "cell_type": "code",
   "execution_count": 5,
   "metadata": {
    "collapsed": false
   },
   "outputs": [
    {
     "data": {
      "text/plain": [
       "My LP Problem:\n",
       "MAXIMIZE\n",
       "4*x + 3*y + 0\n",
       "SUBJECT TO\n",
       "_C1: x + 2 y <= 25\n",
       "\n",
       "_C2: - 2 x + 4 y >= -8\n",
       "\n",
       "_C3: - 2 x + y <= -5\n",
       "\n",
       "VARIABLES\n",
       "x Continuous\n",
       "2 <= y Continuous"
      ]
     },
     "execution_count": 5,
     "metadata": {},
     "output_type": "execute_result"
    }
   ],
   "source": [
    "my_lp_problem"
   ]
  },
  {
   "cell_type": "markdown",
   "metadata": {},
   "source": [
    "PuLP supports open source linear programming solvers such as CBC and GLPK, as well as commercial solvers such as Gurobi and IBM's CPLEX.\n",
    "\n",
    "The default solver is CBC, which comes packaged with PuLP upon installation.\n",
    "\n",
    "For most applications, the open source CBC from [COIN-OR](http://www.coin-or.org/) will be enough for most simple linear programming optimisation algorithms."
   ]
  },
  {
   "cell_type": "code",
   "execution_count": 6,
   "metadata": {
    "collapsed": false
   },
   "outputs": [
    {
     "data": {
      "text/plain": [
       "'Optimal'"
      ]
     },
     "execution_count": 6,
     "metadata": {},
     "output_type": "execute_result"
    }
   ],
   "source": [
    "my_lp_problem.solve()\n",
    "pulp.LpStatus[my_lp_problem.status]"
   ]
  },
  {
   "cell_type": "markdown",
   "metadata": {},
   "source": [
    "We have also checked the status of the solver, there are 5 status codes:\n",
    "* **Not Solved**: Status prior to solving the problem.\n",
    "* **Optimal**: An optimal solution has been found.\n",
    "* **Infeasible**: There are no feasible solutions (e.g. if you set the constraints x <= 1 and x >=2).\n",
    "* **Unbounded**: The constraints are not bounded, maximising the solution will tend towards infinity (e.g. if the only constraint was x >= 3).\n",
    "* **Undefined**: The optimal solution may exist but may not have been found."
   ]
  },
  {
   "cell_type": "markdown",
   "metadata": {},
   "source": [
    "We can now view our maximal variable values and the maximum value of Z. \n",
    "\n",
    "We can use the varValue method to retrieve the values of our variables x and y, and the pulp.value function to view the maximum value of the objective function."
   ]
  },
  {
   "cell_type": "code",
   "execution_count": 7,
   "metadata": {
    "collapsed": false
   },
   "outputs": [
    {
     "name": "stdout",
     "output_type": "stream",
     "text": [
      "x = 14.5\n",
      "y = 5.25\n"
     ]
    }
   ],
   "source": [
    "for variable in my_lp_problem.variables():\n",
    "    print \"{} = {}\".format(variable.name, variable.varValue)"
   ]
  },
  {
   "cell_type": "code",
   "execution_count": 8,
   "metadata": {
    "collapsed": false
   },
   "outputs": [
    {
     "name": "stdout",
     "output_type": "stream",
     "text": [
      "73.75\n"
     ]
    }
   ],
   "source": [
    "print pulp.value(my_lp_problem.objective)"
   ]
  },
  {
   "cell_type": "markdown",
   "metadata": {},
   "source": [
    " Same values as our manual calculations in part 1.\n",
    " \n",
    " In the next part we'll be looking at a more real world problem."
   ]
  }
 ],
 "metadata": {
  "kernelspec": {
   "display_name": "Python 2",
   "language": "python",
   "name": "python2"
  },
  "language_info": {
   "codemirror_mode": {
    "name": "ipython",
    "version": 2.0
   },
   "file_extension": ".py",
   "mimetype": "text/x-python",
   "name": "python",
   "nbconvert_exporter": "python",
   "pygments_lexer": "ipython2",
   "version": "2.7.10"
  }
 },
 "nbformat": 4,
 "nbformat_minor": 0
}