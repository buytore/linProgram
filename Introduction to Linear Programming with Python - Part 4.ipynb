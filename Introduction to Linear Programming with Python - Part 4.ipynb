{
 "cells": [
  {
   "cell_type": "markdown",
   "metadata": {},
   "source": [
    "# Introduction to Linear Programming with Python - Part 4\n",
    "## Real world examples - Blending Problem"
   ]
  },
  {
   "cell_type": "markdown",
   "metadata": {},
   "source": [
    "We're going to make some sausages!\n",
    "\n",
    "We have the following ingredients available to us:\n",
    "\n",
    "| Ingredient | Cost (€/kg)  | Availability (kg) |\n",
    "|------------|--------------|-------------------|\n",
    "|  Pork      | 4.32         | 30                |\n",
    "|  Wheat     | 2.46         | 20                |\n",
    "|  Starch    | 1.86         | 17                |\n",
    "\n",
    "We'll make 2 types of sausage:\n",
    "* Economy (>40% Pork)\n",
    "* Premium (>60% Pork)\n",
    "\n",
    "One sausage is 50 grams (0.05 kg)\n",
    "\n",
    "According to government regulations, the most starch we can use in our sausages is 25%\n",
    "\n",
    "We have a contract with a butcher, and have already purchased 23 kg pork, that will go bad if it's not used.\n",
    "\n",
    "We have a demand for 350 economy sausages and 500 premium sausages.\n",
    "\n",
    "We need to figure out how to most cost effectively blend our sausages."
   ]
  },
  {
   "cell_type": "markdown",
   "metadata": {},
   "source": [
    "Let's model our problem\n",
    "\n",
    "  *p<sub>e</sub>* = Pork in the economy sausages (kg)  \n",
    "  *w<sub>e</sub>* = Wheat in the economy sausages (kg)  \n",
    "  *s<sub>e</sub>* = Starch in the economy sausages (kg)  \n",
    "  *p<sub>p</sub>* = Pork in the premium sausages (kg)  \n",
    "  *w<sub>p</sub>* = Wheat in the premium sausages (kg)  \n",
    "  *s<sub>p</sub>* = Starch in the premium sausages (kg)  \n",
    "\n",
    "We want to minimise costs such that:\n",
    "\n",
    "Cost = 0.72(*p<sub>e</sub>* + *p<sub>p</sub>*) + 0.41(*w<sub>e</sub>* + *w<sub>p</sub>*) + 0.31(*s<sub>e</sub>* + *s<sub>p</sub>*)\n",
    "\n",
    "\n",
    "With the following constraints:\n",
    "\n",
    "  *p<sub>e</sub>* + *w<sub>e</sub>* + *s<sub>e</sub>* = 350 \\* 0.05  \n",
    "  *p<sub>p</sub>* + *w<sub>p</sub>* + *s<sub>p</sub>* = 500 \\* 0.05  \n",
    "  *p<sub>e</sub>* ≥ 0.4(*p<sub>e</sub>* + *w<sub>e</sub>* + *s<sub>e</sub>*)  \n",
    "  *p<sub>p</sub>* ≥ 0.6(*p<sub>p</sub>* + *w<sub>p</sub>* + *s<sub>p</sub>*)  \n",
    "  *s<sub>e</sub>* ≤ 0.25(*p<sub>e</sub>* + *w<sub>e</sub>* + *s<sub>e</sub>*)  \n",
    "  *s<sub>p</sub>* ≤ 0.25(*p<sub>p</sub>* + *w<sub>p</sub>* + *s<sub>p</sub>*)  \n",
    "  *p<sub>e</sub>* + *p<sub>p</sub>* ≤ 30  \n",
    "  *w<sub>e</sub>* + *w<sub>p</sub>* ≤ 20  \n",
    "  *s<sub>e</sub>* + *s<sub>p</sub>* ≤ 17  \n",
    "  *p<sub>e</sub>* + *p<sub>p</sub>* ≥ 23"
   ]
  },
  {
   "cell_type": "code",
   "execution_count": 1,
   "metadata": {
    "collapsed": true
   },
   "outputs": [],
   "source": [
    "import pulp"
   ]
  },
  {
   "cell_type": "code",
   "execution_count": 2,
   "metadata": {
    "collapsed": true
   },
   "outputs": [],
   "source": [
    "# Instantiate our problem class\n",
    "model = pulp.LpProblem(\"Cost minimising blending problem\", pulp.LpMinimize)"
   ]
  },
  {
   "cell_type": "markdown",
   "metadata": {},
   "source": [
    "Here we have 6 decision variables, we could name them individually but this wouldn't scale up if we had hundreds/thousands of variables (you don't want to be entering all of these by hand multiple times). \n",
    "\n",
    "We'll create a couple of lists from which we can create tuple indices."
   ]
  },
  {
   "cell_type": "code",
   "execution_count": 3,
   "metadata": {
    "collapsed": false
   },
   "outputs": [],
   "source": [
    "# Construct our decision variable lists\n",
    "sausage_types = ['economy', 'premium']\n",
    "ingredients = ['pork', 'wheat', 'starch']"
   ]
  },
  {
   "cell_type": "markdown",
   "metadata": {},
   "source": [
    "Each of these decision variables will have similar characteristics (lower bound of 0, continuous variables). Therefore we can use PuLP's LpVariable object's dict functionality, we can provide our tuple indices.\n",
    "\n",
    "These tuples will be keys for the ing_weight dict of decision variables"
   ]
  },
  {
   "cell_type": "code",
   "execution_count": 4,
   "metadata": {
    "collapsed": false
   },
   "outputs": [],
   "source": [
    "ing_weight = pulp.LpVariable.dicts(\"weight kg\",\n",
    "                                     ((i, j) for i in sausage_types for j in ingredients),\n",
    "                                     lowBound=0,\n",
    "                                     cat='Continuous')"
   ]
  },
  {
   "cell_type": "markdown",
   "metadata": {},
   "source": [
    "PuLP provides an lpSum vector calculation for the sum of a list of linear expressions.\n",
    "\n",
    "Whilst we only have 6 decision variables, I will demonstrate how the problem would be constructed in a way that could be scaled up to many variables using list comprehensions."
   ]
  },
  {
   "cell_type": "code",
   "execution_count": 5,
   "metadata": {
    "collapsed": false
   },
   "outputs": [],
   "source": [
    "# Objective Function\n",
    "model += (\n",
    "    pulp.lpSum([\n",
    "        4.32 * ing_weight[(i, 'pork')]\n",
    "        + 2.46 * ing_weight[(i, 'wheat')]\n",
    "        + 1.86 * ing_weight[(i, 'starch')]\n",
    "        for i in sausage_types])\n",
    ")"
   ]
  },
  {
   "cell_type": "markdown",
   "metadata": {},
   "source": [
    "Now we add our constraints, bear in mind again here how the use of list comprehensions allows for scaling up to many ingredients or sausage types"
   ]
  },
  {
   "cell_type": "code",
   "execution_count": 6,
   "metadata": {
    "collapsed": true
   },
   "outputs": [],
   "source": [
    "# Constraints\n",
    "# 350 economy and 500 premium sausages at 0.05 kg\n",
    "model += pulp.lpSum([ing_weight['economy', j] for j in ingredients]) == 350 * 0.05\n",
    "model += pulp.lpSum([ing_weight['premium', j] for j in ingredients]) == 500 * 0.05\n",
    "\n",
    "# Economy has >= 40% pork, premium >= 60% pork\n",
    "model += ing_weight['economy', 'pork'] >= (\n",
    "    0.4 * pulp.lpSum([ing_weight['economy', j] for j in ingredients]))\n",
    "\n",
    "model += ing_weight['premium', 'pork'] >= (\n",
    "    0.6 * pulp.lpSum([ing_weight['premium', j] for j in ingredients]))\n",
    "\n",
    "# Sausages must be <= 25% starch\n",
    "model += ing_weight['economy', 'starch'] <= (\n",
    "    0.25 * pulp.lpSum([ing_weight['economy', j] for j in ingredients]))\n",
    "\n",
    "model += ing_weight['premium', 'starch'] <= (\n",
    "    0.25 * pulp.lpSum([ing_weight['premium', j] for j in ingredients]))\n",
    "\n",
    "# We have at most 30 kg of pork, 20 kg of wheat and 17 kg of starch available\n",
    "model += pulp.lpSum([ing_weight[i, 'pork'] for i in sausage_types]) <= 30\n",
    "model += pulp.lpSum([ing_weight[i, 'wheat'] for i in sausage_types]) <= 20\n",
    "model += pulp.lpSum([ing_weight[i, 'starch'] for i in sausage_types]) <= 17\n",
    "\n",
    "# We have at least 23 kg of pork to use up\n",
    "model += pulp.lpSum([ing_weight[i, 'pork'] for i in sausage_types]) >= 23"
   ]
  },
  {
   "cell_type": "code",
   "execution_count": 7,
   "metadata": {
    "collapsed": false
   },
   "outputs": [
    {
     "data": {
      "text/plain": [
       "'Optimal'"
      ]
     },
     "execution_count": 7,
     "metadata": {},
     "output_type": "execute_result"
    }
   ],
   "source": [
    "# Solve our problem\n",
    "model.solve()\n",
    "pulp.LpStatus[model.status]"
   ]
  },
  {
   "cell_type": "code",
   "execution_count": 8,
   "metadata": {
    "collapsed": false
   },
   "outputs": [
    {
     "name": "stdout",
     "output_type": "stream",
     "text": [
      "The weight of starch in premium sausages is 6.25 kg\n",
      "The weight of starch in economy sausages is 4.375 kg\n",
      "The weight of wheat in economy sausages is 6.125 kg\n",
      "The weight of wheat in premium sausages is 2.75 kg\n",
      "The weight of pork in economy sausages is 7.0 kg\n",
      "The weight of pork in premium sausages is 16.0 kg\n"
     ]
    }
   ],
   "source": [
    "for var in ing_weight:\n",
    "    var_value = ing_weight[var].varValue\n",
    "    print \"The weight of {0} in {1} sausages is {2} kg\".format(var[1], var[0], var_value)"
   ]
  },
  {
   "cell_type": "code",
   "execution_count": 9,
   "metadata": {
    "collapsed": false
   },
   "outputs": [
    {
     "name": "stdout",
     "output_type": "stream",
     "text": [
      "The total cost is €140.96 for 350 economy sausages and 500 premium sausages\n"
     ]
    }
   ],
   "source": [
    "total_cost = pulp.value(model.objective)\n",
    "\n",
    "print \"The total cost is €{} for 350 economy sausages and 500 premium sausages\".format(round(total_cost, 2))"
   ]
  }
 ],
 "metadata": {
  "kernelspec": {
   "display_name": "Python 2",
   "language": "python",
   "name": "python2"
  },
  "language_info": {
   "codemirror_mode": {
    "name": "ipython",
    "version": 2
   },
   "file_extension": ".py",
   "mimetype": "text/x-python",
   "name": "python",
   "nbconvert_exporter": "python",
   "pygments_lexer": "ipython2",
   "version": "2.7.10"
  }
 },
 "nbformat": 4,
 "nbformat_minor": 0
}
