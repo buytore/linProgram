{
 "cells": [
  {
   "cell_type": "markdown",
   "metadata": {},
   "source": [
    "# Introduction to Linear Programming with Python - Part 1\n",
    "## Introduction to Linear Programming"
   ]
  },
  {
   "cell_type": "markdown",
   "metadata": {},
   "source": [
    "In this set of notebooks we will be looking at some linear programming problems and how we can construct and solve these problems using the python linear programming package [PuLP](http://pythonhosted.org/PuLP/).\n",
    "\n",
    "Let's start with a simple example:\n",
    "\n",
    "We want to find the maximum solution to:\n",
    "\n",
    "Z = 4x + 3y\n",
    "\n",
    "This is known as our objective function. x and y in this equation are our decision variables.\n",
    "\n",
    "In this example, the objective function is subject to the following constraints:\n",
    "\n",
    "\n",
    "  x ≥ 0  \n",
    "  y ≥ 2  \n",
    "  2y ≤ 25 - x  \n",
    "  4y ≥ 2x - 8  \n",
    "  y ≤ 2x - 5  \n",
    "\n",
    "We'll begin by graphing this problem"
   ]
  },
  {
   "cell_type": "code",
   "execution_count": 1,
   "metadata": {
    "collapsed": false
   },
   "outputs": [
    {
     "data": {
      "text/plain": [
       "<matplotlib.legend.Legend at 0x106a98410>"
      ]
     },
     "execution_count": 1,
     "metadata": {},
     "output_type": "execute_result"
    },
    {
     "data": {
      "image/png": "[encoded data removed]",
      "text/plain": [
       "<matplotlib.figure.Figure at 0x104b49590>"
      ]
     },
     "metadata": {},
     "output_type": "display_data"
    }
   ],
   "source": [
    "import numpy as np\n",
    "import matplotlib.pyplot as plt\n",
    "%matplotlib inline\n",
    "\n",
    "# Construct lines\n",
    "# x > 0\n",
    "x = np.linspace(0, 20, 2000)\n",
    "# y >= 2\n",
    "y1 = (x*0) + 2\n",
    "# 2y <= 25 - x\n",
    "y2 = (25-x)/2.0\n",
    "# 4y >= 2x - 8 \n",
    "y3 = (2*x-8)/4.0\n",
    "# y <= 2x - 5 \n",
    "y4 = 2 * x -5\n",
    "\n",
    "# Make plot\n",
    "plt.plot(x, y1, label=r'$y\\geq2$')\n",
    "plt.plot(x, y2, label=r'$2y\\leq25-x$')\n",
    "plt.plot(x, y3, label=r'$4y\\geq 2x - 8$')\n",
    "plt.plot(x, y4, label=r'$y\\leq 2x-5$')\n",
    "plt.xlim((0, 16))\n",
    "plt.ylim((0, 11))\n",
    "plt.xlabel(r'$x$')\n",
    "plt.ylabel(r'$y$')\n",
    "\n",
    "# Fill feasible region\n",
    "y5 = np.minimum(y2, y4)\n",
    "y6 = np.maximum(y1, y3)\n",
    "plt.fill_between(x, y5, y6, where=y5>y6, color='grey', alpha=0.5)\n",
    "plt.legend(bbox_to_anchor=(1.05, 1), loc=2, borderaxespad=0.)"
   ]
  },
  {
   "cell_type": "markdown",
   "metadata": {},
   "source": [
    "Our solution lies somewhere in the grey feasible region in the graph above.\n",
    "\n",
    "It has been proven that the minima and maxima of linear programming problems lie at the vertices of the feasible region. In this example, there are only 4 corners to our feasible region, so we can find the solutions for each corner to find our maximum.\n",
    "\n",
    "The four corners are between the lines:\n",
    "\n",
    "| Line 1        | Line 2        | \n",
    "| ------------- |:-------------:| \n",
    "| y ≥ 2         | 4y ≥ 2x - 8   | \n",
    "| 2y ≤ 25 - x   | y ≤ 2x - 5    | \n",
    "| 2y ≤ 25 - x   | 4y ≥ 2x - 8   |\n",
    "| y ≥ 2         | y ≤ 2x - 5    |\n",
    "\n",
    "So keeping in mind that:\n",
    "\n",
    "Z = 4x + 3y\n",
    "\n",
    "We can calculate Z for each corner:"
   ]
  },
  {
   "cell_type": "markdown",
   "metadata": {},
   "source": [
    "1)\n",
    "\n",
    "  y ≥ 2 and 4y ≥ 2x - 8  \n",
    "  2 = (2x - 8) / 4  \n",
    "  x = 8  \n",
    "  y = 2  \n",
    "  Z = 38  \n",
    "\n",
    "\n",
    "2)\n",
    "\n",
    "  2y ≤ 25 - x and y ≤ 2x - 5  \n",
    "  (25 - x) / 2 = (2x - 5)  \n",
    "  x = 7  \n",
    "  y = 9  \n",
    "  Z = 55  \n",
    "\n",
    "\n",
    "3)\n",
    "\n",
    "  2y ≤ 25 - x and 4y ≥ 2x - 8  \n",
    "  (25 - x) / 2 = (2x - 8) / 4  \n",
    "  x = 14.5  \n",
    "  y = 5.25  \n",
    "  Z = 73.75  \n",
    "\n",
    "4)\n",
    "\n",
    "  y ≥ 2 and y ≤ 2x - 5  \n",
    "  2 = 2x-5  \n",
    "  x = 3.5  \n",
    "  y = 2  \n",
    "  Z = 20  "
   ]
  },
  {
   "cell_type": "markdown",
   "metadata": {
    "collapsed": true
   },
   "source": [
    "We have successfully calculated that the maximum value for Z is 73.75, when x is 14.5 and y is 5.25.\n",
    "\n",
    "This method of testing every vertex is only feasible for a small number of variables and constraints.\n",
    "As the numbers of constraints and variables increase, it becomes far more difficult to graph these problems and work out all the vertices.\n",
    "For example, if there were a third variable:\n",
    "\n",
    "Z = Ax + By + Cz\n",
    "\n",
    "We would have to graph in three dimensions (x, y and z).\n",
    "\n",
    "In the next few notebooks, we'll take a look at how we can use python and the PuLP package to solve this linear programming problem, as well as some more complex problems"
   ]
  }
 ],
 "metadata": {
  "kernelspec": {
   "display_name": "Python 2",
   "language": "python",
   "name": "python2"
  },
  "language_info": {
   "codemirror_mode": {
    "name": "ipython",
    "version": 2.0
   },
   "file_extension": ".py",
   "mimetype": "text/x-python",
   "name": "python",
   "nbconvert_exporter": "python",
   "pygments_lexer": "ipython2",
   "version": "2.7.10"
  }
 },
 "nbformat": 4,
 "nbformat_minor": 0
}